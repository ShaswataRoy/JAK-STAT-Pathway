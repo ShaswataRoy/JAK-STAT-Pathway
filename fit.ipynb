{
 "cells": [
  {
   "cell_type": "code",
   "execution_count": 14,
   "metadata": {},
   "outputs": [],
   "source": [
    "import pandas as pd\n",
    "import matplotlib.pyplot as plt\n",
    "import seaborn as sns\n",
    "import numpy as np\n",
    "from glob import glob\n",
    "import math"
   ]
  },
  {
   "cell_type": "code",
   "execution_count": 90,
   "metadata": {},
   "outputs": [],
   "source": [
    "def log_choose(x, y):\n",
    "    return math.lgamma(x + 1) - math.lgamma(y + 1) * math.lgamma(x - y + 1)"
   ]
  },
  {
   "cell_type": "code",
   "execution_count": 39,
   "metadata": {},
   "outputs": [],
   "source": [
    "count_files = glob(\"fish_quant_analysis/*.csv\")"
   ]
  },
  {
   "cell_type": "code",
   "execution_count": 56,
   "metadata": {},
   "outputs": [
    {
     "data": {
      "text/plain": [
       "'fish_quant_analysis/counts_16h_primary.csv'"
      ]
     },
     "execution_count": 56,
     "metadata": {},
     "output_type": "execute_result"
    }
   ],
   "source": [
    "count_files[0]"
   ]
  },
  {
   "cell_type": "code",
   "execution_count": 64,
   "metadata": {},
   "outputs": [],
   "source": [
    "counts =  pd.read_csv(count_files[1])\n",
    "counts_spots = counts.query('type in [\"Mature\",\"Nascent\"]').groupby(['cell','frame']).agg({'count': 'sum'})\n",
    "counts_no_spots = counts.query('type in [\"No Spots\"]')\n",
    "count_distribution = counts_spots['count'].value_counts().sort_index()\n",
    "count_distribution[0] = len(counts_no_spots)\n",
    "count_distribution = count_distribution.sort_index()"
   ]
  },
  {
   "cell_type": "code",
   "execution_count": 23,
   "metadata": {},
   "outputs": [],
   "source": [
    "def P(w,p,r,n):\n",
    "    \"\"\"\n",
    "    Calculate the probability of a given weight and price.\n",
    "    \"\"\"\n",
    "    if n==0:\n",
    "        return w+(1-w)*(1-p)**r\n",
    "    else:\n",
    "        return (1-w)*choose(n+r-1,n) * p**n * (1-p)**r"
   ]
  },
  {
   "cell_type": "code",
   "execution_count": null,
   "metadata": {},
   "outputs": [],
   "source": [
    "def log_P(w,p,r,n):\n",
    "    \"\"\"\n",
    "    Calculate the log probability of a given weight and price.\n",
    "    \"\"\"\n",
    "    if n==0:\n",
    "        return math.log(w+(1-w)*(1-p)**r)\n",
    "    else:\n",
    "        return math.log(1-w) +\\\n",
    "            log_choose(n+r-1,n) +\\\n",
    "            n*math.log(p) +\\\n",
    "            r*math.log(1-p)"
   ]
  },
  {
   "cell_type": "code",
   "execution_count": 32,
   "metadata": {},
   "outputs": [
    {
     "data": {
      "text/plain": [
       "[<matplotlib.lines.Line2D at 0x3088ff910>]"
      ]
     },
     "execution_count": 32,
     "metadata": {},
     "output_type": "execute_result"
    },
    {
     "data": {
      "image/png": "[encoded data removed]",
      "text/plain": [
       "<Figure size 640x480 with 1 Axes>"
      ]
     },
     "metadata": {},
     "output_type": "display_data"
    }
   ],
   "source": [
    "plt.plot([P(.5,0.1,3,n) for n in np.arange(10)], label=\"w=1,p=0.1,r=3\")"
   ]
  },
  {
   "cell_type": "code",
   "execution_count": 94,
   "metadata": {},
   "outputs": [],
   "source": [
    "def log_likelihood(w, p, r):\n",
    "    \"\"\"\n",
    "    Calculate the log likelihood of a given weight and price.\n",
    "    \"\"\"\n",
    "    result = 0\n",
    "    for n in count_distribution.index:\n",
    "        result += count_distribution[n] * log_P(w, p, r, n)\n",
    "    return result"
   ]
  },
  {
   "cell_type": "code",
   "execution_count": 96,
   "metadata": {},
   "outputs": [
    {
     "ename": "ModuleNotFoundError",
     "evalue": "No module named 'emcee'",
     "output_type": "error",
     "traceback": [
      "\u001b[0;31m---------------------------------------------------------------------------\u001b[0m",
      "\u001b[0;31mModuleNotFoundError\u001b[0m                       Traceback (most recent call last)",
      "Cell \u001b[0;32mIn[96], line 1\u001b[0m\n\u001b[0;32m----> 1\u001b[0m \u001b[38;5;28;01mimport\u001b[39;00m \u001b[38;5;21;01memcee\u001b[39;00m\n\u001b[1;32m      2\u001b[0m \u001b[38;5;28;01mimport\u001b[39;00m \u001b[38;5;21;01mcorner\u001b[39;00m\n\u001b[1;32m      4\u001b[0m \u001b[38;5;66;03m# Define the log prior to constrain parameters to valid ranges\u001b[39;00m\n",
      "\u001b[0;31mModuleNotFoundError\u001b[0m: No module named 'emcee'"
     ]
    }
   ],
   "source": [
    "import emcee\n",
    "import corner\n",
    "\n",
    "# Define the log prior to constrain parameters to valid ranges\n",
    "def log_prior(params):\n",
    "    w, p, r = params\n",
    "    if 0 <= w <= 1 and 0 <= p <= 1 and r > 0:\n",
    "        return 0.0  # Uniform prior within constraints\n",
    "    return -np.inf  # Zero probability outside constraints\n",
    "\n",
    "# Define the log posterior (log prior + log likelihood)\n",
    "def log_posterior(params):\n",
    "    lp = log_prior(params)\n",
    "    if not np.isfinite(lp):\n",
    "        return -np.inf\n",
    "    return lp + log_likelihood(params[0], params[1], params[2])\n",
    "\n",
    "# Set up the MCMC sampler\n",
    "ndim = 3  # number of parameters (w, p, r)\n",
    "nwalkers = 32  # number of MCMC walkers\n",
    "nburn = 1000  # number of burn-in steps\n",
    "nsteps = 5000  # number of MCMC steps after burn-in\n",
    "\n",
    "# Start the walkers in a small ball around the optimized values\n",
    "pos = np.array([w_opt, p_opt, r_opt]) + 1e-4 * np.random.randn(nwalkers, ndim)\n",
    "\n",
    "# Initialize and run the sampler\n",
    "sampler = emcee.EnsembleSampler(nwalkers, ndim, log_posterior)\n",
    "sampler.run_mcmc(pos, nburn + nsteps, progress=True)\n",
    "\n",
    "# Discard burn-in samples and flatten the chain\n",
    "samples = sampler.get_chain(discard=nburn, flat=True)\n",
    "\n",
    "# Create corner plot to visualize posterior distributions\n",
    "fig = corner.corner(samples, labels=[\"w\", \"p\", \"r\"], \n",
    "                    truths=[w_opt, p_opt, r_opt],\n",
    "                    quantiles=[0.16, 0.5, 0.84],\n",
    "                    show_titles=True)\n",
    "\n",
    "# Calculate mean and standard deviation for each parameter\n",
    "w_mcmc, p_mcmc, r_mcmc = map(lambda v: (v[1], v[2]-v[1], v[1]-v[0]), \n",
    "                           zip(*np.percentile(samples, [16, 50, 84], axis=0)))\n",
    "\n",
    "print(f\"w = {w_mcmc[0]:.4f} +{w_mcmc[1]:.4f} -{w_mcmc[2]:.4f}\")\n",
    "print(f\"p = {p_mcmc[0]:.4f} +{p_mcmc[1]:.4f} -{p_mcmc[2]:.4f}\")\n",
    "print(f\"r = {r_mcmc[0]:.4f} +{r_mcmc[1]:.4f} -{r_mcmc[2]:.4f}\")\n",
    "\n",
    "# Plot the posterior traces to check for convergence\n",
    "plt.figure(figsize=(12, 8))\n",
    "labels = [\"w\", \"p\", \"r\"]\n",
    "for i in range(ndim):\n",
    "    plt.subplot(ndim, 1, i+1)\n",
    "    samples_chain = sampler.get_chain()\n",
    "    plt.plot(samples_chain[:, :, i], alpha=0.3)\n",
    "    plt.ylabel(labels[i])\n",
    "    if i == ndim-1:\n",
    "        plt.xlabel(\"Step Number\")\n",
    "plt.tight_layout()\n",
    "plt.show()"
   ]
  },
  {
   "cell_type": "code",
   "execution_count": null,
   "metadata": {},
   "outputs": [],
   "source": [
    "!pip install "
   ]
  },
  {
   "cell_type": "code",
   "execution_count": 38,
   "metadata": {},
   "outputs": [
    {
     "data": {
      "text/plain": [
       "(array([148.,  22.,   4.,   3.,   0.,   0.,   0.,   0.,   0.,   1.]),\n",
       " array([ 1. ,  5.6, 10.2, 14.8, 19.4, 24. , 28.6, 33.2, 37.8, 42.4, 47. ]),\n",
       " <BarContainer object of 10 artists>)"
      ]
     },
     "execution_count": 38,
     "metadata": {},
     "output_type": "execute_result"
    },
    {
     "data": {
      "image/png": "[encoded data removed]",
      "text/plain": [
       "<Figure size 640x480 with 1 Axes>"
      ]
     },
     "metadata": {},
     "output_type": "display_data"
    }
   ],
   "source": [
    "# Create a counter for the 'count' column values\n",
    "count_distribution = counts['count'].value_counts().sort_index()\n",
    "plt.hist(count_distribution)"
   ]
  },
  {
   "cell_type": "code",
   "execution_count": null,
   "metadata": {},
   "outputs": [],
   "source": []
  }
 ],
 "metadata": {
  "kernelspec": {
   "display_name": "base",
   "language": "python",
   "name": "python3"
  },
  "language_info": {
   "codemirror_mode": {
    "name": "ipython",
    "version": 3
   },
   "file_extension": ".py",
   "mimetype": "text/x-python",
   "name": "python",
   "nbconvert_exporter": "python",
   "pygments_lexer": "ipython3",
   "version": "3.11.4"
  }
 },
 "nbformat": 4,
 "nbformat_minor": 2
}
